{
 "cells": [
  {
   "cell_type": "code",
   "execution_count": 1,
   "metadata": {},
   "outputs": [
    {
     "name": "stdout",
     "output_type": "stream",
     "text": [
      "{'ID': '12D3KooWJUtPUfdbcEYG8mWNBEMKhe5yVmWgRdY6mejh7hNCnyed', 'PublicKey': 'CAESIIC7vEmwldApkuwVKgSvKA6EJdF/NmgTCiJnr8XuQCA+', 'Addresses': ['/ip4/127.0.0.1/tcp/4001/p2p/12D3KooWJUtPUfdbcEYG8mWNBEMKhe5yVmWgRdY6mejh7hNCnyed', '/ip4/163.152.126.247/tcp/4001/p2p/12D3KooWJUtPUfdbcEYG8mWNBEMKhe5yVmWgRdY6mejh7hNCnyed', '/ip6/::1/tcp/4001/p2p/12D3KooWJUtPUfdbcEYG8mWNBEMKhe5yVmWgRdY6mejh7hNCnyed'], 'AgentVersion': 'kubo/0.28.0/', 'Protocols': ['/ipfs/bitswap', '/ipfs/bitswap/1.0.0', '/ipfs/bitswap/1.1.0', '/ipfs/bitswap/1.2.0', '/ipfs/id/1.0.0', '/ipfs/id/push/1.0.0', '/ipfs/lan/kad/1.0.0', '/ipfs/ping/1.0.0', '/libp2p/autonat/1.0.0', '/libp2p/circuit/relay/0.2.0/stop', '/x/']}\n"
     ]
    }
   ],
   "source": [
    "import requests\n",
    "import json\n",
    "\n",
    "def get_ipfs_node_id():\n",
    "    url = 'http://163.152.126.247:5001/api/v0/id'  # IPFS ID API 엔드포인트\n",
    "    try:\n",
    "        response = requests.post(url)  # GET 요청으로 ID 정보 요청\n",
    "        if response.status_code == 200:\n",
    "            return json.loads(response.text)  # 성공적으로 정보를 받아온 경우, JSON 파싱\n",
    "        else:\n",
    "            return f\"Error: {response.text}\"\n",
    "    except Exception as e:\n",
    "        return f\"An error occurred: {str(e)}\"\n",
    "\n",
    "# IPFS 노드 ID 정보를 가져옵니다\n",
    "node_id_info = get_ipfs_node_id()\n",
    "print(node_id_info)"
   ]
  },
  {
   "cell_type": "code",
   "execution_count": null,
   "metadata": {},
   "outputs": [],
   "source": []
  }
 ],
 "metadata": {
  "kernelspec": {
   "display_name": "SmartSecurity",
   "language": "python",
   "name": "python3"
  },
  "language_info": {
   "codemirror_mode": {
    "name": "ipython",
    "version": 3
   },
   "file_extension": ".py",
   "mimetype": "text/x-python",
   "name": "python",
   "nbconvert_exporter": "python",
   "pygments_lexer": "ipython3",
   "version": "3.10.12"
  }
 },
 "nbformat": 4,
 "nbformat_minor": 2
}
