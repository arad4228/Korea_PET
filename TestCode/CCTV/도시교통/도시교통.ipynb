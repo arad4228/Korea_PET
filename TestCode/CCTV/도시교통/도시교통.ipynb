{
 "cells": [
  {
   "cell_type": "code",
   "execution_count": null,
   "metadata": {},
   "outputs": [],
   "source": [
    "%pip install pyav"
   ]
  },
  {
   "cell_type": "code",
   "execution_count": null,
   "metadata": {},
   "outputs": [],
   "source": [
    "from multiprocessing import Process, Manager\n",
    "import av\n",
    "\n",
    "url = \"http://210.179.218.52:1935/live/148.stream/playlist.m3u8\"\n",
    "\n",
    "contain = av.open(url)\n",
    "\n",
    "video_stream = next(s for s in contain.streams if s.type == 'video')\n",
    "\n",
    "for frame in contain.decode(video_stream):\n",
    "    frame.to_image().save('test.png')\n",
    "    break"
   ]
  },
  {
   "cell_type": "code",
   "execution_count": null,
   "metadata": {},
   "outputs": [],
   "source": [
    "contanier = av.open('out.mp4')\n",
    "\n",
    "video_stream = next(s for s in contanier.streams if s.type == 'video')\n",
    "\n",
    "for frame in contanier.decode(video_stream):\n",
    "    frame.to_image().save('test.png')\n",
    "    break"
   ]
  },
  {
   "cell_type": "code",
   "execution_count": null,
   "metadata": {},
   "outputs": [],
   "source": []
  }
 ],
 "metadata": {
  "kernelspec": {
   "display_name": "SmartSecurity",
   "language": "python",
   "name": "python3"
  },
  "language_info": {
   "codemirror_mode": {
    "name": "ipython",
    "version": 3
   },
   "file_extension": ".py",
   "mimetype": "text/x-python",
   "name": "python",
   "nbconvert_exporter": "python",
   "pygments_lexer": "ipython3",
   "version": "3.11.8"
  }
 },
 "nbformat": 4,
 "nbformat_minor": 2
}
