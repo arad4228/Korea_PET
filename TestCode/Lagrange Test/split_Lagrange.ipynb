{
 "cells": [
  {
   "cell_type": "code",
   "execution_count": null,
   "metadata": {},
   "outputs": [],
   "source": [
    "# 임의의 크기의 파일 만들기\n",
    "import os\n",
    "\n",
    "with open('test.txt', 'w') as f:\n",
    "    f.write(\"a\"*32)\n",
    "    f.write('b'*32)\n",
    "    f.write('c'*32)\n",
    "    f.write('d'*32)\n"
   ]
  },
  {
   "cell_type": "code",
   "execution_count": null,
   "metadata": {},
   "outputs": [],
   "source": [
    "os.path.getsize('test.txt')"
   ]
  },
  {
   "cell_type": "code",
   "execution_count": 110,
   "metadata": {},
   "outputs": [
    {
     "name": "stdout",
     "output_type": "stream",
     "text": [
      "33740\n"
     ]
    },
    {
     "ename": "ValueError",
     "evalue": "buffer size must be a multiple of element size",
     "output_type": "error",
     "traceback": [
      "\u001b[0;31m---------------------------------------------------------------------------\u001b[0m",
      "\u001b[0;31mValueError\u001b[0m                                Traceback (most recent call last)",
      "Cell \u001b[0;32mIn[110], line 12\u001b[0m\n\u001b[1;32m     10\u001b[0m chunk_size \u001b[38;5;241m=\u001b[39m \u001b[38;5;28mlen\u001b[39m(data) \u001b[38;5;241m/\u001b[39m\u001b[38;5;241m/\u001b[39m \u001b[38;5;241m32\u001b[39m\n\u001b[1;32m     11\u001b[0m \u001b[38;5;28mprint\u001b[39m(chunk_size)\n\u001b[0;32m---> 12\u001b[0m \u001b[38;5;28mprint\u001b[39m(\u001b[43mnp\u001b[49m\u001b[38;5;241;43m.\u001b[39;49m\u001b[43mfrombuffer\u001b[49m\u001b[43m(\u001b[49m\u001b[43mdata\u001b[49m\u001b[43m[\u001b[49m\u001b[43m:\u001b[49m\u001b[43mchunk_size\u001b[49m\u001b[43m]\u001b[49m\u001b[43m,\u001b[49m\u001b[43m \u001b[49m\u001b[43mdtype\u001b[49m\u001b[38;5;241;43m=\u001b[39;49m\u001b[43mnp\u001b[49m\u001b[38;5;241;43m.\u001b[39;49m\u001b[43muint64\u001b[49m\u001b[43m)\u001b[49m)\n\u001b[1;32m     13\u001b[0m \u001b[38;5;28mprint\u001b[39m(data[:chunk_size])\n",
      "\u001b[0;31mValueError\u001b[0m: buffer size must be a multiple of element size"
     ]
    }
   ],
   "source": [
    "import numpy as np\n",
    "import sys\n",
    "import binascii\n",
    "from scipy.interpolate import lagrange\n",
    "\n",
    "\n",
    "with open('test.pdf', 'rb') as f:\n",
    "    data = f.read()\n",
    "\n",
    "chunk_size = len(data) // 32\n",
    "print(chunk_size)\n",
    "print(np.frombuffer(data[:chunk_size], dtype=np.uint64))\n",
    "print(data[:chunk_size])"
   ]
  },
  {
   "cell_type": "code",
   "execution_count": 97,
   "metadata": {},
   "outputs": [],
   "source": [
    "x = [x for x in range(chunk_size)]\n",
    "y = [binascii.b2a_hex(data[i*chunk_size:(i+1)*chunk_size]) for i in range(chunk_size)]"
   ]
  },
  {
   "cell_type": "code",
   "execution_count": 98,
   "metadata": {},
   "outputs": [
    {
     "ename": "ValueError",
     "evalue": "invalid literal for int() with base 10: b'255044462d312e340a25f6e4fcdf0a312030206f626a0a3c3c0a2f4d657461646174612032203020520a2f54797065202f436174616c6f670a2f50616765732033203020520a3e3e0a656e646f626a0a342030206f626a0a3c3c0a2f4d656574696e67",
     "output_type": "error",
     "traceback": [
      "\u001b[0;31m---------------------------------------------------------------------------\u001b[0m",
      "\u001b[0;31mValueError\u001b[0m                                Traceback (most recent call last)",
      "Cell \u001b[0;32mIn[98], line 2\u001b[0m\n\u001b[1;32m      1\u001b[0m x \u001b[38;5;241m=\u001b[39m np\u001b[38;5;241m.\u001b[39marray(x)\n\u001b[0;32m----> 2\u001b[0m y \u001b[38;5;241m=\u001b[39m \u001b[43mnp\u001b[49m\u001b[38;5;241;43m.\u001b[39;49m\u001b[43marray\u001b[49m\u001b[43m(\u001b[49m\u001b[43my\u001b[49m\u001b[43m,\u001b[49m\u001b[43m \u001b[49m\u001b[43mdtype\u001b[49m\u001b[38;5;241;43m=\u001b[39;49m\u001b[43mnp\u001b[49m\u001b[38;5;241;43m.\u001b[39;49m\u001b[43mulonglong\u001b[49m\u001b[43m)\u001b[49m\n\u001b[1;32m      4\u001b[0m \u001b[38;5;28mprint\u001b[39m(x)\n\u001b[1;32m      5\u001b[0m y\n",
      "\u001b[0;31mValueError\u001b[0m: invalid literal for int() with base 10: b'255044462d312e340a25f6e4fcdf0a312030206f626a0a3c3c0a2f4d657461646174612032203020520a2f54797065202f436174616c6f670a2f50616765732033203020520a3e3e0a656e646f626a0a342030206f626a0a3c3c0a2f4d656574696e67"
     ]
    }
   ],
   "source": [
    "x = np.array(x)\n",
    "y = np.array(y, dtype=np.ulonglong)\n",
    "\n",
    "print(x)\n",
    "y"
   ]
  },
  {
   "cell_type": "code",
   "execution_count": null,
   "metadata": {},
   "outputs": [],
   "source": [
    "poly = lagrange(x, y)\n",
    "poly"
   ]
  },
  {
   "cell_type": "code",
   "execution_count": null,
   "metadata": {},
   "outputs": [],
   "source": [
    "from numpy.polynomial.polynomial import Polynomial\n",
    "Polynomial(poly.coef[::-1]).coef"
   ]
  },
  {
   "cell_type": "code",
   "execution_count": null,
   "metadata": {},
   "outputs": [],
   "source": [
    "import matplotlib.pyplot as plt\n",
    "x_new = np.arange(0, 6, 1)\n",
    "plt.scatter(x, y, label='data')\n",
    "plt.plot(x_new, Polynomial(poly.coef[::-1])(x_new), label='Polynomial')\n",
    "plt.legend()\n",
    "plt.show()"
   ]
  },
  {
   "cell_type": "code",
   "execution_count": null,
   "metadata": {},
   "outputs": [],
   "source": []
  }
 ],
 "metadata": {
  "kernelspec": {
   "display_name": "SmartSecurity",
   "language": "python",
   "name": "python3"
  },
  "language_info": {
   "codemirror_mode": {
    "name": "ipython",
    "version": 3
   },
   "file_extension": ".py",
   "mimetype": "text/x-python",
   "name": "python",
   "nbconvert_exporter": "python",
   "pygments_lexer": "ipython3",
   "version": "3.11.8"
  }
 },
 "nbformat": 4,
 "nbformat_minor": 2
}
