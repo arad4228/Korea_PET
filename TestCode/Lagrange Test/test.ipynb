{
 "cells": [
  {
   "cell_type": "code",
   "execution_count": 5,
   "metadata": {},
   "outputs": [
    {
     "name": "stdout",
     "output_type": "stream",
     "text": [
      "Requirement already satisfied: scipy in /opt/anaconda3/envs/SmartSecurity/lib/python3.11/site-packages (1.12.0)\n",
      "Requirement already satisfied: numpy<1.29.0,>=1.22.4 in /opt/anaconda3/envs/SmartSecurity/lib/python3.11/site-packages (from scipy) (1.26.4)\n",
      "Collecting matplot\n",
      "  Downloading matplot-0.1.9-py2.py3-none-any.whl.metadata (241 bytes)\n",
      "Collecting pyloco>=0.0.134 (from matplot)\n",
      "  Downloading pyloco-0.0.139-py2.py3-none-any.whl.metadata (1.1 kB)\n",
      "Collecting matplotlib>=3.1.1 (from matplot)\n",
      "  Downloading matplotlib-3.8.3-cp311-cp311-macosx_11_0_arm64.whl.metadata (5.8 kB)\n",
      "Collecting contourpy>=1.0.1 (from matplotlib>=3.1.1->matplot)\n",
      "  Downloading contourpy-1.2.0-cp311-cp311-macosx_11_0_arm64.whl.metadata (5.8 kB)\n",
      "Collecting cycler>=0.10 (from matplotlib>=3.1.1->matplot)\n",
      "  Downloading cycler-0.12.1-py3-none-any.whl.metadata (3.8 kB)\n",
      "Collecting fonttools>=4.22.0 (from matplotlib>=3.1.1->matplot)\n",
      "  Downloading fonttools-4.49.0-cp311-cp311-macosx_10_9_universal2.whl.metadata (159 kB)\n",
      "\u001b[2K     \u001b[90m━━━━━━━━━━━━━━━━━━━━━━━━━━━━━━━━━━━━━━━\u001b[0m \u001b[32m159.1/159.1 kB\u001b[0m \u001b[31m1.8 MB/s\u001b[0m eta \u001b[36m0:00:00\u001b[0ma \u001b[36m0:00:01\u001b[0m\n",
      "\u001b[?25hCollecting kiwisolver>=1.3.1 (from matplotlib>=3.1.1->matplot)\n",
      "  Downloading kiwisolver-1.4.5-cp311-cp311-macosx_11_0_arm64.whl.metadata (6.4 kB)\n",
      "Requirement already satisfied: numpy<2,>=1.21 in /opt/anaconda3/envs/SmartSecurity/lib/python3.11/site-packages (from matplotlib>=3.1.1->matplot) (1.26.4)\n",
      "Requirement already satisfied: packaging>=20.0 in /opt/anaconda3/envs/SmartSecurity/lib/python3.11/site-packages (from matplotlib>=3.1.1->matplot) (23.2)\n",
      "Collecting pillow>=8 (from matplotlib>=3.1.1->matplot)\n",
      "  Downloading pillow-10.2.0-cp311-cp311-macosx_11_0_arm64.whl.metadata (9.7 kB)\n",
      "Collecting pyparsing>=2.3.1 (from matplotlib>=3.1.1->matplot)\n",
      "  Downloading pyparsing-3.1.1-py3-none-any.whl.metadata (5.1 kB)\n",
      "Requirement already satisfied: python-dateutil>=2.7 in /opt/anaconda3/envs/SmartSecurity/lib/python3.11/site-packages (from matplotlib>=3.1.1->matplot) (2.9.0)\n",
      "Collecting ushlex (from pyloco>=0.0.134->matplot)\n",
      "  Downloading ushlex-0.99.1.tar.gz (4.7 kB)\n",
      "  Preparing metadata (setup.py) ... \u001b[?25ldone\n",
      "\u001b[?25hCollecting websocket-client (from pyloco>=0.0.134->matplot)\n",
      "  Downloading websocket_client-1.7.0-py3-none-any.whl.metadata (7.9 kB)\n",
      "Collecting twine (from pyloco>=0.0.134->matplot)\n",
      "  Downloading twine-5.0.0-py3-none-any.whl.metadata (3.3 kB)\n",
      "Collecting typing (from pyloco>=0.0.134->matplot)\n",
      "  Downloading typing-3.7.4.3.tar.gz (78 kB)\n",
      "\u001b[2K     \u001b[90m━━━━━━━━━━━━━━━━━━━━━━━━━━━━━━━━━━━━━━━━\u001b[0m \u001b[32m78.6/78.6 kB\u001b[0m \u001b[31m3.0 MB/s\u001b[0m eta \u001b[36m0:00:00\u001b[0m\n",
      "\u001b[?25h  Preparing metadata (setup.py) ... \u001b[?25ldone\n",
      "\u001b[?25hCollecting SimpleWebSocketServer (from pyloco>=0.0.134->matplot)\n",
      "  Downloading SimpleWebSocketServer-0.1.2.tar.gz (10 kB)\n",
      "  Preparing metadata (setup.py) ... \u001b[?25ldone\n",
      "\u001b[?25hRequirement already satisfied: six>=1.5 in /opt/anaconda3/envs/SmartSecurity/lib/python3.11/site-packages (from python-dateutil>=2.7->matplotlib>=3.1.1->matplot) (1.16.0)\n",
      "Collecting pkginfo>=1.8.1 (from twine->pyloco>=0.0.134->matplot)\n",
      "  Downloading pkginfo-1.10.0-py3-none-any.whl.metadata (11 kB)\n",
      "Collecting readme-renderer>=35.0 (from twine->pyloco>=0.0.134->matplot)\n",
      "  Downloading readme_renderer-43.0-py3-none-any.whl.metadata (2.8 kB)\n",
      "Requirement already satisfied: requests>=2.20 in /opt/anaconda3/envs/SmartSecurity/lib/python3.11/site-packages (from twine->pyloco>=0.0.134->matplot) (2.31.0)\n",
      "Collecting requests-toolbelt!=0.9.0,>=0.8.0 (from twine->pyloco>=0.0.134->matplot)\n",
      "  Downloading requests_toolbelt-1.0.0-py2.py3-none-any.whl.metadata (14 kB)\n",
      "Requirement already satisfied: urllib3>=1.26.0 in /opt/anaconda3/envs/SmartSecurity/lib/python3.11/site-packages (from twine->pyloco>=0.0.134->matplot) (2.2.1)\n",
      "Requirement already satisfied: importlib-metadata>=3.6 in /opt/anaconda3/envs/SmartSecurity/lib/python3.11/site-packages (from twine->pyloco>=0.0.134->matplot) (7.0.1)\n",
      "Collecting keyring>=15.1 (from twine->pyloco>=0.0.134->matplot)\n",
      "  Downloading keyring-24.3.1-py3-none-any.whl.metadata (20 kB)\n",
      "Collecting rfc3986>=1.4.0 (from twine->pyloco>=0.0.134->matplot)\n",
      "  Downloading rfc3986-2.0.0-py2.py3-none-any.whl.metadata (6.6 kB)\n",
      "Collecting rich>=12.0.0 (from twine->pyloco>=0.0.134->matplot)\n",
      "  Downloading rich-13.7.1-py3-none-any.whl.metadata (18 kB)\n",
      "Requirement already satisfied: zipp>=0.5 in /opt/anaconda3/envs/SmartSecurity/lib/python3.11/site-packages (from importlib-metadata>=3.6->twine->pyloco>=0.0.134->matplot) (3.17.0)\n",
      "Collecting jaraco.classes (from keyring>=15.1->twine->pyloco>=0.0.134->matplot)\n",
      "  Downloading jaraco.classes-3.3.1-py3-none-any.whl.metadata (2.7 kB)\n",
      "Collecting nh3>=0.2.14 (from readme-renderer>=35.0->twine->pyloco>=0.0.134->matplot)\n",
      "  Downloading nh3-0.2.15-cp37-abi3-macosx_10_12_x86_64.macosx_11_0_arm64.macosx_10_12_universal2.whl.metadata (1.7 kB)\n",
      "Collecting docutils>=0.13.1 (from readme-renderer>=35.0->twine->pyloco>=0.0.134->matplot)\n",
      "  Downloading docutils-0.20.1-py3-none-any.whl.metadata (2.8 kB)\n",
      "Requirement already satisfied: Pygments>=2.5.1 in /opt/anaconda3/envs/SmartSecurity/lib/python3.11/site-packages (from readme-renderer>=35.0->twine->pyloco>=0.0.134->matplot) (2.17.2)\n",
      "Requirement already satisfied: charset-normalizer<4,>=2 in /opt/anaconda3/envs/SmartSecurity/lib/python3.11/site-packages (from requests>=2.20->twine->pyloco>=0.0.134->matplot) (3.3.2)\n",
      "Requirement already satisfied: idna<4,>=2.5 in /opt/anaconda3/envs/SmartSecurity/lib/python3.11/site-packages (from requests>=2.20->twine->pyloco>=0.0.134->matplot) (3.6)\n",
      "Requirement already satisfied: certifi>=2017.4.17 in /opt/anaconda3/envs/SmartSecurity/lib/python3.11/site-packages (from requests>=2.20->twine->pyloco>=0.0.134->matplot) (2024.2.2)\n",
      "Collecting markdown-it-py>=2.2.0 (from rich>=12.0.0->twine->pyloco>=0.0.134->matplot)\n",
      "  Downloading markdown_it_py-3.0.0-py3-none-any.whl.metadata (6.9 kB)\n",
      "Collecting mdurl~=0.1 (from markdown-it-py>=2.2.0->rich>=12.0.0->twine->pyloco>=0.0.134->matplot)\n",
      "  Downloading mdurl-0.1.2-py3-none-any.whl.metadata (1.6 kB)\n",
      "Collecting more-itertools (from jaraco.classes->keyring>=15.1->twine->pyloco>=0.0.134->matplot)\n",
      "  Downloading more_itertools-10.2.0-py3-none-any.whl.metadata (34 kB)\n",
      "Downloading matplot-0.1.9-py2.py3-none-any.whl (5.0 kB)\n",
      "Downloading matplotlib-3.8.3-cp311-cp311-macosx_11_0_arm64.whl (7.5 MB)\n",
      "\u001b[2K   \u001b[90m━━━━━━━━━━━━━━━━━━━━━━━━━━━━━━━━━━━━━━━━\u001b[0m \u001b[32m7.5/7.5 MB\u001b[0m \u001b[31m688.5 kB/s\u001b[0m eta \u001b[36m0:00:00\u001b[0m00:01\u001b[0m00:01\u001b[0m\n",
      "\u001b[?25hDownloading pyloco-0.0.139-py2.py3-none-any.whl (60 kB)\n",
      "\u001b[2K   \u001b[90m━━━━━━━━━━━━━━━━━━━━━━━━━━━━━━━━━━━━━━━━\u001b[0m \u001b[32m60.2/60.2 kB\u001b[0m \u001b[31m1.5 MB/s\u001b[0m eta \u001b[36m0:00:00\u001b[0ma \u001b[36m0:00:01\u001b[0m\n",
      "\u001b[?25hDownloading contourpy-1.2.0-cp311-cp311-macosx_11_0_arm64.whl (243 kB)\n",
      "\u001b[2K   \u001b[90m━━━━━━━━━━━━━━━━━━━━━━━━━━━━━━━━━━━━━━━━\u001b[0m \u001b[32m243.4/243.4 kB\u001b[0m \u001b[31m1.1 MB/s\u001b[0m eta \u001b[36m0:00:00\u001b[0ma \u001b[36m0:00:01\u001b[0m\n",
      "\u001b[?25hDownloading cycler-0.12.1-py3-none-any.whl (8.3 kB)\n",
      "Downloading fonttools-4.49.0-cp311-cp311-macosx_10_9_universal2.whl (2.8 MB)\n",
      "\u001b[2K   \u001b[90m━━━━━━━━━━━━━━━━━━━━━━━━━━━━━━━━━━━━━━━━\u001b[0m \u001b[32m2.8/2.8 MB\u001b[0m \u001b[31m1.8 MB/s\u001b[0m eta \u001b[36m0:00:00\u001b[0m00:01\u001b[0m00:01\u001b[0m\n",
      "\u001b[?25hDownloading kiwisolver-1.4.5-cp311-cp311-macosx_11_0_arm64.whl (66 kB)\n",
      "\u001b[2K   \u001b[90m━━━━━━━━━━━━━━━━━━━━━━━━━━━━━━━━━━━━━━━━\u001b[0m \u001b[32m66.2/66.2 kB\u001b[0m \u001b[31m1.8 MB/s\u001b[0m eta \u001b[36m0:00:00\u001b[0m\n",
      "\u001b[?25hDownloading pillow-10.2.0-cp311-cp311-macosx_11_0_arm64.whl (3.3 MB)\n",
      "\u001b[2K   \u001b[90m━━━━━━━━━━━━━━━━━━━━━━━━━━━━━━━━━━━━━━━━\u001b[0m \u001b[32m3.3/3.3 MB\u001b[0m \u001b[31m2.5 MB/s\u001b[0m eta \u001b[36m0:00:00\u001b[0ma \u001b[36m0:00:01\u001b[0m\n",
      "\u001b[?25hDownloading pyparsing-3.1.1-py3-none-any.whl (103 kB)\n",
      "\u001b[2K   \u001b[90m━━━━━━━━━━━━━━━━━━━━━━━━━━━━━━━━━━━━━━━━\u001b[0m \u001b[32m103.1/103.1 kB\u001b[0m \u001b[31m3.4 MB/s\u001b[0m eta \u001b[36m0:00:00\u001b[0m\n",
      "\u001b[?25hDownloading twine-5.0.0-py3-none-any.whl (37 kB)\n",
      "Downloading websocket_client-1.7.0-py3-none-any.whl (58 kB)\n",
      "\u001b[2K   \u001b[90m━━━━━━━━━━━━━━━━━━━━━━━━━━━━━━━━━━━━━━━━\u001b[0m \u001b[32m58.5/58.5 kB\u001b[0m \u001b[31m2.3 MB/s\u001b[0m eta \u001b[36m0:00:00\u001b[0m\n",
      "\u001b[?25hDownloading keyring-24.3.1-py3-none-any.whl (38 kB)\n",
      "Downloading pkginfo-1.10.0-py3-none-any.whl (30 kB)\n",
      "Downloading readme_renderer-43.0-py3-none-any.whl (13 kB)\n",
      "Downloading requests_toolbelt-1.0.0-py2.py3-none-any.whl (54 kB)\n",
      "\u001b[2K   \u001b[90m━━━━━━━━━━━━━━━━━━━━━━━━━━━━━━━━━━━━━━━━\u001b[0m \u001b[32m54.5/54.5 kB\u001b[0m \u001b[31m1.7 MB/s\u001b[0m eta \u001b[36m0:00:00\u001b[0m\n",
      "\u001b[?25hDownloading rfc3986-2.0.0-py2.py3-none-any.whl (31 kB)\n",
      "Downloading rich-13.7.1-py3-none-any.whl (240 kB)\n",
      "\u001b[2K   \u001b[90m━━━━━━━━━━━━━━━━━━━━━━━━━━━━━━━━━━━━━━━━\u001b[0m \u001b[32m240.7/240.7 kB\u001b[0m \u001b[31m1.9 MB/s\u001b[0m eta \u001b[36m0:00:00\u001b[0ma \u001b[36m0:00:01\u001b[0m\n",
      "\u001b[?25hDownloading docutils-0.20.1-py3-none-any.whl (572 kB)\n",
      "\u001b[2K   \u001b[90m━━━━━━━━━━━━━━━━━━━━━━━━━━━━━━━━━━━━━━━━\u001b[0m \u001b[32m572.7/572.7 kB\u001b[0m \u001b[31m3.6 MB/s\u001b[0m eta \u001b[36m0:00:00\u001b[0m00:01\u001b[0m00:01\u001b[0m\n",
      "\u001b[?25hDownloading markdown_it_py-3.0.0-py3-none-any.whl (87 kB)\n",
      "\u001b[2K   \u001b[90m━━━━━━━━━━━━━━━━━━━━━━━━━━━━━━━━━━━━━━━━\u001b[0m \u001b[32m87.5/87.5 kB\u001b[0m \u001b[31m3.6 MB/s\u001b[0m eta \u001b[36m0:00:00\u001b[0m\n",
      "\u001b[?25hDownloading nh3-0.2.15-cp37-abi3-macosx_10_12_x86_64.macosx_11_0_arm64.macosx_10_12_universal2.whl (1.4 MB)\n",
      "\u001b[2K   \u001b[90m━━━━━━━━━━━━━━━━━━━━━━━━━━━━━━━━━━━━━━━━\u001b[0m \u001b[32m1.4/1.4 MB\u001b[0m \u001b[31m2.0 MB/s\u001b[0m eta \u001b[36m0:00:00\u001b[0m00:01\u001b[0m00:01\u001b[0m\n",
      "\u001b[?25hDownloading jaraco.classes-3.3.1-py3-none-any.whl (6.8 kB)\n",
      "Downloading mdurl-0.1.2-py3-none-any.whl (10.0 kB)\n",
      "Downloading more_itertools-10.2.0-py3-none-any.whl (57 kB)\n",
      "\u001b[2K   \u001b[90m━━━━━━━━━━━━━━━━━━━━━━━━━━━━━━━━━━━━━━━━\u001b[0m \u001b[32m57.0/57.0 kB\u001b[0m \u001b[31m2.9 MB/s\u001b[0m eta \u001b[36m0:00:00\u001b[0m\n",
      "\u001b[?25hBuilding wheels for collected packages: SimpleWebSocketServer, typing, ushlex\n",
      "  Building wheel for SimpleWebSocketServer (setup.py) ... \u001b[?25ldone\n",
      "\u001b[?25h  Created wheel for SimpleWebSocketServer: filename=SimpleWebSocketServer-0.1.2-py3-none-any.whl size=9666 sha256=f843b267e1254f5fb526bd6513d31a7cc8f837ff4b77b34604bf16c6ee1930f8\n",
      "  Stored in directory: /Users/jeong-gyeongjae/Library/Caches/pip/wheels/e7/4d/d6/386351cf1f926ad0e48873adcbaabf09bb05ff2d0b9ed2cc91\n",
      "  Building wheel for typing (setup.py) ... \u001b[?25ldone\n",
      "\u001b[?25h  Created wheel for typing: filename=typing-3.7.4.3-py3-none-any.whl size=26305 sha256=75f5b5ba5a9281ce3c4797cb984a3ec16d0629f251e373dd3e750cc22699cfc9\n",
      "  Stored in directory: /Users/jeong-gyeongjae/Library/Caches/pip/wheels/9d/67/2f/53e3ef32ec48d11d7d60245255e2d71e908201d20c880c08ee\n",
      "  Building wheel for ushlex (setup.py) ... \u001b[?25ldone\n",
      "\u001b[?25h  Created wheel for ushlex: filename=ushlex-0.99.1-py3-none-any.whl size=4393 sha256=15827d90ca5ed8f7f17b962676699eea2bee54479e8e3d30f9e404d7eb7baa25\n",
      "  Stored in directory: /Users/jeong-gyeongjae/Library/Caches/pip/wheels/2e/48/44/fed44e2a0643b96307111dcd72be5ae027d04ebb671cc51e5d\n",
      "Successfully built SimpleWebSocketServer typing ushlex\n",
      "Installing collected packages: ushlex, SimpleWebSocketServer, nh3, websocket-client, typing, rfc3986, pyparsing, pkginfo, pillow, more-itertools, mdurl, kiwisolver, fonttools, docutils, cycler, contourpy, requests-toolbelt, readme-renderer, matplotlib, markdown-it-py, jaraco.classes, rich, keyring, twine, pyloco, matplot\n",
      "Successfully installed SimpleWebSocketServer-0.1.2 contourpy-1.2.0 cycler-0.12.1 docutils-0.20.1 fonttools-4.49.0 jaraco.classes-3.3.1 keyring-24.3.1 kiwisolver-1.4.5 markdown-it-py-3.0.0 matplot-0.1.9 matplotlib-3.8.3 mdurl-0.1.2 more-itertools-10.2.0 nh3-0.2.15 pillow-10.2.0 pkginfo-1.10.0 pyloco-0.0.139 pyparsing-3.1.1 readme-renderer-43.0 requests-toolbelt-1.0.0 rfc3986-2.0.0 rich-13.7.1 twine-5.0.0 typing-3.7.4.3 ushlex-0.99.1 websocket-client-1.7.0\n"
     ]
    }
   ],
   "source": [
    "!pip install scipy\n",
    "!pip install matplot"
   ]
  },
  {
   "cell_type": "code",
   "execution_count": 28,
   "metadata": {},
   "outputs": [
    {
     "name": "stdout",
     "output_type": "stream",
     "text": [
      "   2\n",
      "9 x - 18 x\n"
     ]
    }
   ],
   "source": [
    "import numpy as np\n",
    "from scipy.interpolate import lagrange\n",
    "\n",
    "x = np.array([0, 3, 6])\n",
    "y = x**3\n",
    "\n",
    "poly = lagrange(x, y)\n",
    "print(poly)"
   ]
  },
  {
   "cell_type": "code",
   "execution_count": 26,
   "metadata": {},
   "outputs": [
    {
     "data": {
      "text/plain": [
       "array([  0., -18.,   9.])"
      ]
     },
     "execution_count": 26,
     "metadata": {},
     "output_type": "execute_result"
    }
   ],
   "source": [
    "from numpy.polynomial.polynomial import Polynomial\n",
    "Polynomial(poly.coef[::-1]).coef"
   ]
  },
  {
   "cell_type": "code",
   "execution_count": 27,
   "metadata": {},
   "outputs": [
    {
     "data": {
      "image/png": "[encoded data removed]",
      "text/plain": [
       "<Figure size 640x480 with 1 Axes>"
      ]
     },
     "metadata": {},
     "output_type": "display_data"
    }
   ],
   "source": [
    "import matplotlib.pyplot as plt\n",
    "x_new = np.arange(0, 6.1, 0.1)\n",
    "plt.scatter(x, y, label='data')\n",
    "plt.plot(x_new, Polynomial(poly.coef[::-1])(x_new), label='Polynomial')\n",
    "plt.plot(x_new, 9*x_new**2-18*x_new+0*x_new, label=r\"$9 X^2 - 18 x$\" ,linestyle='-.')\n",
    "plt.legend()\n",
    "plt.show()"
   ]
  },
  {
   "cell_type": "code",
   "execution_count": null,
   "metadata": {},
   "outputs": [],
   "source": []
  }
 ],
 "metadata": {
  "kernelspec": {
   "display_name": "SmartSecurity",
   "language": "python",
   "name": "python3"
  },
  "language_info": {
   "codemirror_mode": {
    "name": "ipython",
    "version": 3
   },
   "file_extension": ".py",
   "mimetype": "text/x-python",
   "name": "python",
   "nbconvert_exporter": "python",
   "pygments_lexer": "ipython3",
   "version": "3.11.8"
  }
 },
 "nbformat": 4,
 "nbformat_minor": 2
}
