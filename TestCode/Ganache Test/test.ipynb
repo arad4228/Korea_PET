{
 "cells": [
  {
   "cell_type": "code",
   "execution_count": 1,
   "metadata": {},
   "outputs": [
    {
     "name": "stdout",
     "output_type": "stream",
     "text": [
      "True\n"
     ]
    }
   ],
   "source": [
    "from web3 import Web3, AsyncWeb3\n",
    "\n",
    "# HTTP Provider를 통해 접속 가능.\n",
    "w3 = Web3(Web3.HTTPProvider('http://127.0.0.1:7545'))\n",
    "\n",
    "print(w3.is_connected())"
   ]
  },
  {
   "cell_type": "code",
   "execution_count": 2,
   "metadata": {},
   "outputs": [
    {
     "data": {
      "text/plain": [
       "AttributeDict({'hash': HexBytes('0x8421c53e9beeed12d7a7e68eee287c9ba537aa0839574d61624abbb76bfa5320'),\n",
       " 'parentHash': HexBytes('0x0afde100ba814917cc4f5a36fe581175e00694036dd46e05bccb324c3ca58035'),\n",
       " 'sha3Uncles': HexBytes('0x1dcc4de8dec75d7aab85b567b6ccd41ad312451b948a7413f0a142fd40d49347'),\n",
       " 'miner': '0x0000000000000000000000000000000000000000',\n",
       " 'stateRoot': HexBytes('0xe5a6c2f92217c0f6fd840e87a1382039a68aaf143689ba46d69f8aab8d7b3bc2'),\n",
       " 'transactionsRoot': HexBytes('0x6e651cf60be39666f0b2f4150d585591b5256564f83666d54a1b96791810a013'),\n",
       " 'receiptsRoot': HexBytes('0x5d19c9c2c328a879b7b993ac1d9c8151c82ad6b94142570223a922a1f65bc4ce'),\n",
       " 'logsBloom': HexBytes('0x00000000000000000000000000000000000000000000000000000000000000000000000000000000000000000000000000000000000000000000000000000000000000000000000000000000000000000000000000000000000000000000000000000000000000000000000000000000000000000000000000000000000000000000000000000000000000000000000000000000000000000000000000000000000000000000000000000000000000000000000000000000000000000000000000000000000000000000000000000000000000000000000000000000000000000000000000000000000000000000000000000000000000000000000000000000'),\n",
       " 'difficulty': 0,\n",
       " 'number': 3,\n",
       " 'gasLimit': 6721975,\n",
       " 'gasUsed': 29688,\n",
       " 'timestamp': 1709775611,\n",
       " 'extraData': HexBytes('0x'),\n",
       " 'mixHash': HexBytes('0x3255905e0d2f75d73eec2d2597fa340e12b2c7cffb22396136f6348d468c6cce'),\n",
       " 'nonce': HexBytes('0x0000000000000000'),\n",
       " 'totalDifficulty': 0,\n",
       " 'baseFeePerGas': 679641272,\n",
       " 'size': 729,\n",
       " 'transactions': [HexBytes('0xe063edb9dc7ef0c22c712df82a0a940df32020753a5ed348c10af0a981b047bf')],\n",
       " 'uncles': []})"
      ]
     },
     "execution_count": 2,
     "metadata": {},
     "output_type": "execute_result"
    }
   ],
   "source": [
    "w3.eth.get_block('latest')"
   ]
  },
  {
   "cell_type": "code",
   "execution_count": 3,
   "metadata": {},
   "outputs": [
    {
     "name": "stdout",
     "output_type": "stream",
     "text": [
      "Ganache에 있는 계정들:\n",
      "0xa99B9e4Cfcb7E3933F2265605E1DB6C394486784\n",
      "0xCDf182545c44AC96099282f8dEc805Da65Ce56eC\n",
      "0x82CBb57dDBc401c43AaA34d318d077b74897f5a5\n",
      "0x7489078a2aBdf24E07CC00d34c96c8FB93a5ecF1\n",
      "0xf42a402Dd614706f820059848964BBf051C124d1\n",
      "0x19791152da60746a737bb35fC775682499B26F21\n",
      "0x0c9c65Cc88c8cAE8A81eb3ffd477f0C7EC83B7b3\n",
      "0x2Ce88Ec6B47766f6aCac69585b020aa07b392B06\n",
      "0x7aE000f3d0093eb23C05015Af62E8b5E64F2B439\n",
      "0xb1095864f44Dc8694b8489e240A5DF539384EC6e\n"
     ]
    }
   ],
   "source": [
    "w3 = Web3(Web3.HTTPProvider('http://127.0.0.1:7545'))\n",
    "\n",
    "accounts = w3.eth.accounts\n",
    "print(\"Ganache에 있는 계정들:\")\n",
    "for account in accounts:\n",
    "    print(account)"
   ]
  },
  {
   "cell_type": "code",
   "execution_count": null,
   "metadata": {},
   "outputs": [],
   "source": []
  }
 ],
 "metadata": {
  "kernelspec": {
   "display_name": "SmartSecurity",
   "language": "python",
   "name": "python3"
  },
  "language_info": {
   "codemirror_mode": {
    "name": "ipython",
    "version": 3
   },
   "file_extension": ".py",
   "mimetype": "text/x-python",
   "name": "python",
   "nbconvert_exporter": "python",
   "pygments_lexer": "ipython3",
   "version": "3.11.8"
  }
 },
 "nbformat": 4,
 "nbformat_minor": 2
}
