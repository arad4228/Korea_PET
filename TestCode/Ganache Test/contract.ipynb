{
 "cells": [
  {
   "cell_type": "code",
   "execution_count": 1,
   "metadata": {},
   "outputs": [
    {
     "name": "stdout",
     "output_type": "stream",
     "text": [
      "Requirement already satisfied: py-solc-x in /opt/anaconda3/envs/SmartSecurity/lib/python3.11/site-packages (2.0.2)\n",
      "Requirement already satisfied: requests<3,>=2.19.0 in /opt/anaconda3/envs/SmartSecurity/lib/python3.11/site-packages (from py-solc-x) (2.31.0)\n",
      "Requirement already satisfied: packaging<24,>=23.1 in /opt/anaconda3/envs/SmartSecurity/lib/python3.11/site-packages (from py-solc-x) (23.2)\n",
      "Requirement already satisfied: charset-normalizer<4,>=2 in /opt/anaconda3/envs/SmartSecurity/lib/python3.11/site-packages (from requests<3,>=2.19.0->py-solc-x) (3.3.2)\n",
      "Requirement already satisfied: idna<4,>=2.5 in /opt/anaconda3/envs/SmartSecurity/lib/python3.11/site-packages (from requests<3,>=2.19.0->py-solc-x) (3.6)\n",
      "Requirement already satisfied: urllib3<3,>=1.21.1 in /opt/anaconda3/envs/SmartSecurity/lib/python3.11/site-packages (from requests<3,>=2.19.0->py-solc-x) (2.2.1)\n",
      "Requirement already satisfied: certifi>=2017.4.17 in /opt/anaconda3/envs/SmartSecurity/lib/python3.11/site-packages (from requests<3,>=2.19.0->py-solc-x) (2024.2.2)\n"
     ]
    }
   ],
   "source": [
    "# Solc 컴파일러\n",
    "!pip install py-solc-x"
   ]
  },
  {
   "cell_type": "code",
   "execution_count": 11,
   "metadata": {},
   "outputs": [
    {
     "name": "stdout",
     "output_type": "stream",
     "text": [
      "True\n"
     ]
    }
   ],
   "source": [
    "from web3 import Web3, AsyncWeb3\n",
    "\n",
    "\n",
    "# HTTP Provider를 통해 접속 가능.\n",
    "w3 = Web3(Web3.HTTPProvider('http://127.0.0.1:7545'))\n",
    "\n",
    "print(w3.is_connected())"
   ]
  },
  {
   "cell_type": "code",
   "execution_count": 28,
   "metadata": {},
   "outputs": [
    {
     "name": "stderr",
     "output_type": "stream",
     "text": [
      "/opt/anaconda3/envs/SmartSecurity/lib/python3.11/site-packages/solcx/install.py:714: UnexpectedVersionWarning: Installed solc version is v0.7.0+commit.9e61f92b, expecting v0.7.0\n",
      "  warnings.warn(\n"
     ]
    },
    {
     "data": {
      "text/plain": [
       "<Version('0.7.0')>"
      ]
     },
     "execution_count": 28,
     "metadata": {},
     "output_type": "execute_result"
    }
   ],
   "source": [
    "from solcx import install_solc, compile_standard\n",
    "install_solc(version='0.7.0')"
   ]
  },
  {
   "cell_type": "code",
   "execution_count": 29,
   "metadata": {},
   "outputs": [],
   "source": [
    "from solcx import compile_source"
   ]
  },
  {
   "cell_type": "markdown",
   "metadata": {},
   "source": [
    "## Original"
   ]
  },
  {
   "cell_type": "code",
   "execution_count": 30,
   "metadata": {},
   "outputs": [],
   "source": [
    "compiled_sol = compile_source(\n",
    "    '''\n",
    "    // SPDX-License-Identifier: GPL-3.0\n",
    "    pragma solidity >0.5.0;\n",
    "\n",
    "    contract Greeter {\n",
    "        string public greeting;\n",
    "\n",
    "        constructor() {\n",
    "            greeting = 'Hello';\n",
    "        }\n",
    "\n",
    "        function setGreeting(string memory _greeting) public {\n",
    "            greeting = _greeting;\n",
    "        }\n",
    "\n",
    "        function greet() view public returns (string memory) {\n",
    "            return greeting;\n",
    "        }\n",
    "    }\n",
    "    ''',\n",
    "    output_values=['abi', 'bin'],\n",
    "    solc_version=\"0.7.0\",\n",
    ")"
   ]
  },
  {
   "cell_type": "markdown",
   "metadata": {},
   "source": [
    "## GPT FIXED"
   ]
  },
  {
   "cell_type": "code",
   "execution_count": null,
   "metadata": {},
   "outputs": [],
   "source": [
    "# 컴파일할 Solidity 소스 코드\n",
    "sol_source = '''\n",
    "// SPDX-License-Identifier: GPL-3.0\n",
    "pragma solidity >0.5.0;\n",
    "\n",
    "contract Greeter {\n",
    "    string public greeting;\n",
    "\n",
    "    constructor() public {\n",
    "        greeting = 'Hello';\n",
    "    }\n",
    "\n",
    "    function setGreeting(string memory _greeting) public {\n",
    "        greeting = _greeting;\n",
    "    }\n",
    "\n",
    "    function greet() view public returns (string memory) {\n",
    "        return greeting;\n",
    "    }\n",
    "}\n",
    "'''\n",
    "\n",
    "# 컴파일 옵션 설정\n",
    "compiled_sol = compile_standard({\n",
    "    \"language\": \"Solidity\",\n",
    "    \"sources\": {\n",
    "        \"Greeter.sol\": {\n",
    "            \"content\": sol_source\n",
    "        }\n",
    "    },\n",
    "    \"settings\": {\n",
    "        \"outputSelection\": {\n",
    "            \"*\": {\n",
    "                \"*\": [\"abi\", \"metadata\", \"evm.bytecode\", \"evm.bytecode.sourceMap\"]\n",
    "            }\n",
    "        }\n",
    "    }\n",
    "},\n",
    "solc_version=\"0.8.24\",  # 이 부분은 설치된 solc 버전에 맞게 조정할 수 있습니다.\n",
    ")"
   ]
  },
  {
   "cell_type": "markdown",
   "metadata": {},
   "source": [
    "## Original"
   ]
  },
  {
   "cell_type": "code",
   "execution_count": 31,
   "metadata": {},
   "outputs": [],
   "source": [
    "contract_id, contract_interface = compiled_sol.popitem()"
   ]
  },
  {
   "cell_type": "code",
   "execution_count": 32,
   "metadata": {},
   "outputs": [],
   "source": [
    "bytecode = contract_interface['bin']\n",
    "abi = contract_interface['abi']"
   ]
  },
  {
   "cell_type": "markdown",
   "metadata": {},
   "source": [
    "## GPT Fixed"
   ]
  },
  {
   "cell_type": "code",
   "execution_count": null,
   "metadata": {},
   "outputs": [],
   "source": [
    "bytecode = compiled_sol['contracts']['Greeter.sol']['Greeter']['evm']['bytecode']"
   ]
  },
  {
   "cell_type": "code",
   "execution_count": null,
   "metadata": {},
   "outputs": [],
   "source": [
    "abi = compiled_sol['contracts']['Greeter.sol']['Greeter']['abi']"
   ]
  },
  {
   "cell_type": "markdown",
   "metadata": {},
   "source": [
    "## Deploy Contract"
   ]
  },
  {
   "cell_type": "code",
   "execution_count": 33,
   "metadata": {},
   "outputs": [],
   "source": [
    "w3.eth.default_account = w3.eth.accounts[0]"
   ]
  },
  {
   "cell_type": "code",
   "execution_count": 34,
   "metadata": {},
   "outputs": [],
   "source": [
    "Greeter = w3.eth.contract(abi=abi, bytecode=bytecode)"
   ]
  },
  {
   "cell_type": "code",
   "execution_count": 35,
   "metadata": {},
   "outputs": [],
   "source": [
    "tx_hash = Greeter.constructor().transact()"
   ]
  },
  {
   "cell_type": "code",
   "execution_count": 41,
   "metadata": {},
   "outputs": [
    {
     "name": "stdout",
     "output_type": "stream",
     "text": [
      "AttributeDict({'transactionHash': HexBytes('0xe063edb9dc7ef0c22c712df82a0a940df32020753a5ed348c10af0a981b047bf'), 'transactionIndex': 0, 'blockNumber': 3, 'blockHash': HexBytes('0x8421c53e9beeed12d7a7e68eee287c9ba537aa0839574d61624abbb76bfa5320'), 'from': '0xa99B9e4Cfcb7E3933F2265605E1DB6C394486784', 'to': '0xE23Ab52110ef0EE9872d358bdf5471dd8DA7bE3A', 'cumulativeGasUsed': 29688, 'gasUsed': 29688, 'contractAddress': None, 'logs': [], 'logsBloom': HexBytes('0x00000000000000000000000000000000000000000000000000000000000000000000000000000000000000000000000000000000000000000000000000000000000000000000000000000000000000000000000000000000000000000000000000000000000000000000000000000000000000000000000000000000000000000000000000000000000000000000000000000000000000000000000000000000000000000000000000000000000000000000000000000000000000000000000000000000000000000000000000000000000000000000000000000000000000000000000000000000000000000000000000000000000000000000000000000000'), 'status': 1, 'effectiveGasPrice': 860170984, 'type': 2})\n"
     ]
    }
   ],
   "source": [
    "tx_receipt = w3.eth.wait_for_transaction_receipt(tx_hash)\n",
    "print(tx_receipt)"
   ]
  },
  {
   "cell_type": "code",
   "execution_count": 37,
   "metadata": {},
   "outputs": [],
   "source": [
    "greeter = w3.eth.contract(\n",
    "    address=tx_receipt.contractAddress,\n",
    "    abi=abi\n",
    ")"
   ]
  },
  {
   "cell_type": "code",
   "execution_count": 38,
   "metadata": {},
   "outputs": [
    {
     "data": {
      "text/plain": [
       "'Hello'"
      ]
     },
     "execution_count": 38,
     "metadata": {},
     "output_type": "execute_result"
    }
   ],
   "source": [
    "greeter.functions.greet().call()"
   ]
  },
  {
   "cell_type": "code",
   "execution_count": 40,
   "metadata": {},
   "outputs": [
    {
     "data": {
      "text/plain": [
       "'Arad4228'"
      ]
     },
     "execution_count": 40,
     "metadata": {},
     "output_type": "execute_result"
    }
   ],
   "source": [
    "tx_hash = greeter.functions.setGreeting('Arad4228').transact()\n",
    "tx_receipt = w3.eth.wait_for_transaction_receipt(tx_hash)\n",
    "greeter.functions.greet().call()"
   ]
  },
  {
   "cell_type": "code",
   "execution_count": null,
   "metadata": {},
   "outputs": [],
   "source": []
  }
 ],
 "metadata": {
  "kernelspec": {
   "display_name": "SmartSecurity",
   "language": "python",
   "name": "python3"
  },
  "language_info": {
   "codemirror_mode": {
    "name": "ipython",
    "version": 3
   },
   "file_extension": ".py",
   "mimetype": "text/x-python",
   "name": "python",
   "nbconvert_exporter": "python",
   "pygments_lexer": "ipython3",
   "version": "3.11.8"
  }
 },
 "nbformat": 4,
 "nbformat_minor": 2
}
